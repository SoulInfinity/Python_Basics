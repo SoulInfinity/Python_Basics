{
  "nbformat": 4,
  "nbformat_minor": 0,
  "metadata": {
    "colab": {
      "provenance": [],
      "authorship_tag": "ABX9TyPuUxbecUsbz6HyrHp9epyr",
      "include_colab_link": true
    },
    "kernelspec": {
      "name": "python3",
      "display_name": "Python 3"
    },
    "language_info": {
      "name": "python"
    }
  },
  "cells": [
    {
      "cell_type": "markdown",
      "metadata": {
        "id": "view-in-github",
        "colab_type": "text"
      },
      "source": [
        "<a href=\"https://colab.research.google.com/github/SoulInfinity/Python_Basics/blob/main/Untitled9.ipynb\" target=\"_parent\"><img src=\"https://colab.research.google.com/assets/colab-badge.svg\" alt=\"Open In Colab\"/></a>"
      ]
    },
    {
      "cell_type": "markdown",
      "source": [
        "                                            **Lambda Function Demonstration**"
      ],
      "metadata": {
        "id": "fxBM9NOfvKO2"
      }
    },
    {
      "cell_type": "code",
      "source": [
        "d = lambda a,b : a-b"
      ],
      "metadata": {
        "id": "RAFzTdN_lHAs"
      },
      "execution_count": 2,
      "outputs": []
    },
    {
      "cell_type": "code",
      "execution_count": 4,
      "metadata": {
        "id": "p5v6I0OJFPAD",
        "colab": {
          "base_uri": "https://localhost:8080/"
        },
        "outputId": "ff48ff34-e2ac-4372-c9f4-c948032651c1"
      },
      "outputs": [
        {
          "output_type": "execute_result",
          "data": {
            "text/plain": [
              "7"
            ]
          },
          "metadata": {},
          "execution_count": 4
        }
      ],
      "source": [
        "s = lambda a,b : a+b\n",
        "s(3,4)"
      ]
    },
    {
      "cell_type": "code",
      "source": [
        "n = 4\n",
        "thrice = lambda n : n * 3\n",
        "thrice(3)"
      ],
      "metadata": {
        "colab": {
          "base_uri": "https://localhost:8080/"
        },
        "id": "qp3H4TlQlORU",
        "outputId": "ecd43431-b786-4f03-be2d-d97f3a60cf9d"
      },
      "execution_count": 6,
      "outputs": [
        {
          "output_type": "execute_result",
          "data": {
            "text/plain": [
              "9"
            ]
          },
          "metadata": {},
          "execution_count": 6
        }
      ]
    },
    {
      "cell_type": "code",
      "source": [
        "square = lambda n : n * n\n",
        "square(10)"
      ],
      "metadata": {
        "colab": {
          "base_uri": "https://localhost:8080/"
        },
        "id": "T3nwqSZflzFb",
        "outputId": "0afde94f-6100-462a-d11d-6fedf6ae1164"
      },
      "execution_count": 8,
      "outputs": [
        {
          "output_type": "execute_result",
          "data": {
            "text/plain": [
              "100"
            ]
          },
          "metadata": {},
          "execution_count": 8
        }
      ]
    },
    {
      "cell_type": "code",
      "source": [
        "import math\n",
        "squareroot = lambda n : math.sqrt(n)\n",
        "squareroot(100)"
      ],
      "metadata": {
        "colab": {
          "base_uri": "https://localhost:8080/"
        },
        "id": "bMBPXJpzmG80",
        "outputId": "05171649-54bc-4abd-a94f-74c61f63e79d"
      },
      "execution_count": 18,
      "outputs": [
        {
          "output_type": "execute_result",
          "data": {
            "text/plain": [
              "10.0"
            ]
          },
          "metadata": {},
          "execution_count": 18
        }
      ]
    },
    {
      "cell_type": "code",
      "source": [
        "sum = lambda a,b,c : a+b+c\n",
        "sum(2,3,4)"
      ],
      "metadata": {
        "colab": {
          "base_uri": "https://localhost:8080/"
        },
        "id": "GdInfk3zmrAW",
        "outputId": "f231d0aa-3eb9-4552-d39d-27aacfe7657a"
      },
      "execution_count": 9,
      "outputs": [
        {
          "output_type": "execute_result",
          "data": {
            "text/plain": [
              "9"
            ]
          },
          "metadata": {},
          "execution_count": 9
        }
      ]
    },
    {
      "cell_type": "code",
      "source": [
        "l = lambda m,x,c : m*x + c\n",
        "l(2,4,4)"
      ],
      "metadata": {
        "colab": {
          "base_uri": "https://localhost:8080/"
        },
        "id": "97EQWGHnm8_v",
        "outputId": "00940a36-17e5-44be-d1ff-cba3ca18bd7c"
      },
      "execution_count": 13,
      "outputs": [
        {
          "output_type": "execute_result",
          "data": {
            "text/plain": [
              "12"
            ]
          },
          "metadata": {},
          "execution_count": 13
        }
      ]
    },
    {
      "cell_type": "code",
      "source": [
        "area = lambda l,b : (l * b, 2*(l+b))\n",
        "area(2,5)"
      ],
      "metadata": {
        "colab": {
          "base_uri": "https://localhost:8080/"
        },
        "id": "tSU9-zv9oWBt",
        "outputId": "35547334-cf48-4b29-c6e5-f686adfa72e6"
      },
      "execution_count": 17,
      "outputs": [
        {
          "output_type": "execute_result",
          "data": {
            "text/plain": [
              "(10, 14)"
            ]
          },
          "metadata": {},
          "execution_count": 17
        }
      ]
    },
    {
      "cell_type": "code",
      "source": [
        "lbig = lambda a , b : a if a > b else b\n",
        "lbig(4,10)"
      ],
      "metadata": {
        "colab": {
          "base_uri": "https://localhost:8080/"
        },
        "id": "S3_iZwzDohxu",
        "outputId": "5ed49d19-f691-4c75-9e40-017d3cd5a8ec"
      },
      "execution_count": 20,
      "outputs": [
        {
          "output_type": "execute_result",
          "data": {
            "text/plain": [
              "10"
            ]
          },
          "metadata": {},
          "execution_count": 20
        }
      ]
    },
    {
      "cell_type": "code",
      "source": [
        "k = lambda a , b : print(\"A is greater than b\") if a > b else print(\"B is greater than A\")\n",
        "k(20,30)"
      ],
      "metadata": {
        "colab": {
          "base_uri": "https://localhost:8080/"
        },
        "id": "7rkmz8z6rIhJ",
        "outputId": "d17bd76e-1674-4a2d-ec6a-88fb3e985c92"
      },
      "execution_count": 23,
      "outputs": [
        {
          "output_type": "stream",
          "name": "stdout",
          "text": [
            "B is greater than A\n"
          ]
        }
      ]
    },
    {
      "cell_type": "code",
      "source": [
        "str = lambda x : True if x.startswith('p') else False\n",
        "str('python')\n",
        "str('hello')"
      ],
      "metadata": {
        "colab": {
          "base_uri": "https://localhost:8080/"
        },
        "id": "-LhsdAjerg8U",
        "outputId": "44c26a0c-87aa-443d-cd07-036f45a3b3bd"
      },
      "execution_count": 26,
      "outputs": [
        {
          "output_type": "execute_result",
          "data": {
            "text/plain": [
              "False"
            ]
          },
          "metadata": {},
          "execution_count": 26
        }
      ]
    },
    {
      "cell_type": "code",
      "source": [
        "#write a python program to sort a list of tuples using lambda function\n",
        "# sample input --[('English', 88), ('science', 90), ('maths', 97), ('social science', 82)]\n",
        "# sample output --[('social science', 82), ('English', 88), ('science', 90), ('maths', 97)]\n",
        "list_of_tuples = [('English', 88), ('science', 90), ('maths', 97), ('social science', 82)]\n",
        "sorted_list = sorted(list_of_tuples, key=lambda x: x[1])\n",
        "print(\"Sorted list of tuples:\", sorted_list)\n"
      ],
      "metadata": {
        "colab": {
          "base_uri": "https://localhost:8080/"
        },
        "id": "bsF4P_GesyfE",
        "outputId": "f4e81c43-d627-4854-e2e3-e87ad3fd10e2"
      },
      "execution_count": 28,
      "outputs": [
        {
          "output_type": "stream",
          "name": "stdout",
          "text": [
            "Sorted list of tuples: [('social science', 82), ('English', 88), ('science', 90), ('maths', 97)]\n"
          ]
        }
      ]
    },
    {
      "cell_type": "code",
      "source": [],
      "metadata": {
        "id": "wlGGKz18vkU5"
      },
      "execution_count": null,
      "outputs": []
    }
  ]
}